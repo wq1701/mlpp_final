{
 "cells": [
  {
   "cell_type": "markdown",
   "metadata": {},
   "source": [
    "# Recommendation System with Probabilistic Matrix Factorization"
   ]
  },
  {
   "cell_type": "markdown",
   "metadata": {},
   "source": [
    "With the rise of streaming media and video website such as Netflix, YouTube, Spotify and many other platforms, recommendation (recommender) system is widely used to predict users' potential interests on the items which they haven't watched/listened yet. \n",
    "\n",
    "In this project, we specifically aim to apply probabilistic matrix factorization to solve this problem. "
   ]
  },
  {
   "cell_type": "markdown",
   "metadata": {},
   "source": [
    "## Exploratory Data Analysis"
   ]
  },
  {
   "cell_type": "markdown",
   "metadata": {},
   "source": [
    "As matrix factorization could be computationally heavy, we implement our idea on a small subset of data. It is composed of 100 Users and 200 Anime. "
   ]
  },
  {
   "cell_type": "markdown",
   "metadata": {},
   "source": [
    "## Model 1: Gaussian \n",
    "\n",
    "The idea of matrix factorization is to decompose the rating matrix into two latent features U and V with latent factor being a desgnated constant. We experientally found out that a latent factor K between 20 and 30 is a sweet range for our purpose. K=10 will lower the model performance, and K greater than 50 will have no improvemet in terms of performance but increase computation time significantly. \n",
    "\n",
    "Ratings: $r_{ij} \\subset [1, 10]$\n",
    "\n",
    "User latent feature: a matrix with dimension $100*k$, k being the latent factor\n",
    "\n",
    "Anime latent feature: a matrix with dimension $200*k$\n",
    "\n",
    "In our first model, we assume that the user and anime latent feature are k-dimensional latent variable vectors distributed as:: \n",
    "\n",
    "$$\n",
    "u_i \\sim \\mathcal{N}_k(0, I\\sigma^2_u); \\\\\\\\ v_j \\sim \\mathcal{N}_k(0, I\\sigma^2_v) \n",
    "$$\n",
    "\n",
    "The predicted matrix is \n",
    "\n",
    "$$\n",
    "\\hat{R}_{m \\times n} = U^T V\n",
    "$$\n",
    "\n",
    "The likelihood of our data is: \n",
    "\n",
    "$$\n",
    "\\ell(R|U,V,\\sigma) = \\prod_{i=1}^m\\prod_{j=1}^n [\\mathcal{N}(r_{ij}|u^T_i v_j, \\sigma^2)]^{I_{ij}}\n",
    "$$\n",
    "\n",
    "where $I_{ij}=1$ if user i had rated anime j and 0 otherwise. "
   ]
  },
  {
   "cell_type": "markdown",
   "metadata": {},
   "source": [
    "### Inference on model 1"
   ]
  },
  {
   "cell_type": "markdown",
   "metadata": {},
   "source": [
    "## Model 2: Poisson\n",
    "\n",
    "With other thins similar to model 1, we assume a difference distribution for ratings. Specifically, we assume that \n",
    "\n",
    "$$r_ij \\sim \\mathcal{Pois} (u^T_i v_j)$$"
   ]
  },
  {
   "cell_type": "markdown",
   "metadata": {},
   "source": [
    "### Inference on model 2"
   ]
  },
  {
   "cell_type": "code",
   "execution_count": null,
   "metadata": {},
   "outputs": [],
   "source": []
  }
 ],
 "metadata": {
  "kernelspec": {
   "display_name": "Python 3",
   "language": "python",
   "name": "python3"
  },
  "language_info": {
   "codemirror_mode": {
    "name": "ipython",
    "version": 3
   },
   "file_extension": ".py",
   "mimetype": "text/x-python",
   "name": "python",
   "nbconvert_exporter": "python",
   "pygments_lexer": "ipython3",
   "version": "3.8.5"
  }
 },
 "nbformat": 4,
 "nbformat_minor": 4
}
