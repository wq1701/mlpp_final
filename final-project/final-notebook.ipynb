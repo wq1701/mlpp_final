{
 "cells": [
  {
   "cell_type": "markdown",
   "metadata": {},
   "source": [
    "# Recommendation System with Probabilistic Matrix Factorization"
   ]
  },
  {
   "cell_type": "markdown",
   "metadata": {},
   "source": [
    "With the rise of streaming media and video website such as Netflix, YouTube, Spotify and many other platforms, recommendation (recommender) system is widely used to predict users' potential interests on the items which they haven't watched/listened yet. \n",
    "\n",
    "In this project, we specifically aim to apply probabilistic matrix factorization to solve this problem. "
   ]
  },
  {
   "cell_type": "markdown",
   "metadata": {},
   "source": [
    "### Exploratory Data Analysis"
   ]
  },
  {
   "cell_type": "code",
   "execution_count": null,
   "metadata": {},
   "outputs": [],
   "source": [
    "As matrix factorization could be computationally heavy, we implement our idea on a small subset of data. "
   ]
  },
  {
   "cell_type": "code",
   "execution_count": null,
   "metadata": {},
   "outputs": [],
   "source": [
    "import logging\n",
    "import os\n",
    "import warnings\n",
    "warnings.filterwarnings(\"ignore\")\n",
    "\n",
    "import matplotlib.pyplot as plt\n",
    "import numpy as np\n",
    "import pandas as pd\n",
    "import seaborn as sns\n",
    "import torch\n",
    "from torch.distributions import constraints\n",
    "from torch.autograd import Variable\n",
    "import torch.nn.functional as F\n",
    "\n",
    "import pyro\n",
    "import pyro.distributions as dist\n",
    "import pyro.optim as optim\n",
    "\n",
    "from pyro.infer import EmpiricalMarginal, SVI, Trace_ELBO, Predictive\n",
    "from pyro.contrib.autoguide import AutoMultivariateNormal\n",
    "from pyro.infer.mcmc.api import MCMC\n",
    "from pyro.infer.mcmc import NUTS\n",
    "\n",
    "# from preprocess import fill_unrated, control_value\n",
    "# from eval_metrics import rmse, mae\n",
    "\n",
    "# from sklearn.model_selection import train_test_split\n",
    "\n",
    "pyro.set_rng_seed(1)\n",
    "assert pyro.__version__.startswith('1.4.0')"
   ]
  },
  {
   "cell_type": "code",
   "execution_count": 1,
   "metadata": {},
   "outputs": [],
   "source": [
    "from utils import load_makematrix"
   ]
  },
  {
   "cell_type": "code",
   "execution_count": 2,
   "metadata": {},
   "outputs": [],
   "source": [
    "anime_data, anime_data_train, anime_data_test, anime_matrix_train = load_makematrix(\"../small_data/ratings_100_200_real.csv\", \n",
    "                                                                                   split = True)"
   ]
  },
  {
   "cell_type": "code",
   "execution_count": 3,
   "metadata": {},
   "outputs": [],
   "source": [
    "from GaussianMF import run_GaussianMF"
   ]
  },
  {
   "cell_type": "code",
   "execution_count": 4,
   "metadata": {},
   "outputs": [
    {
     "name": "stdout",
     "output_type": "stream",
     "text": [
      "[iter 0]  loss: 88107957.1728 Test MAE: 7.6335\n",
      "[iter 250]  loss: 9710353.9180 Test MAE: 7.6335\n",
      "[iter 500]  loss: 9703657.6773 Test MAE: 7.6335\n",
      "[iter 750]  loss: 9703656.7566 Test MAE: 7.6335\n",
      "[iter 1000]  loss: 9703656.7566 Test MAE: 7.6335\n",
      "[iter 1250]  loss: 9703656.7566 Test MAE: 7.6335\n",
      "[iter 1500]  loss: 9703656.6993 Test MAE: 7.6335\n",
      "[iter 1750]  loss: 9703656.6707 Test MAE: 7.6335\n"
     ]
    }
   ],
   "source": [
    "run_GaussianMF(anime_data_train, anime_data_test, anime_matrix_train)"
   ]
  },
  {
   "cell_type": "code",
   "execution_count": null,
   "metadata": {},
   "outputs": [],
   "source": [
    "loss_list, mae_list = train_via_opt(matrix_factorization_normal, guide_map)"
   ]
  },
  {
   "cell_type": "code",
   "execution_count": null,
   "metadata": {},
   "outputs": [],
   "source": []
  }
 ],
 "metadata": {
  "kernelspec": {
   "display_name": "Python 3",
   "language": "python",
   "name": "python3"
  },
  "language_info": {
   "codemirror_mode": {
    "name": "ipython",
    "version": 3
   },
   "file_extension": ".py",
   "mimetype": "text/x-python",
   "name": "python",
   "nbconvert_exporter": "python",
   "pygments_lexer": "ipython3",
   "version": "3.8.5"
  }
 },
 "nbformat": 4,
 "nbformat_minor": 4
}
